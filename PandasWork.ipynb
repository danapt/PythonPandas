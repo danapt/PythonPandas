{
 "cells": [
  {
   "cell_type": "code",
   "execution_count": 29,
   "metadata": {
    "collapsed": true,
    "pycharm": {
     "name": "#%%%\n",
     "is_executing": false
    }
   },
   "outputs": [],
   "source": [
    "'''\n",
    " Daniel Apetri\n",
    "\n",
    "'''\n",
    "import collections\n",
    "import pandas as pd\n",
    "import numpy as np\n",
    "\n",
    "#read from features_names.txt the column names and add them to a list\n",
    "input = open(\"./data/feature_names.txt\",\"r\")\n",
    "column_names = input.read().split(\"\\n\")\n"
   ]
  },
  {
   "cell_type": "code",
   "execution_count": 42,
   "outputs": [
    {
     "data": {
      "text/plain": "    id  age          workclass  fnlwgt   education  education-num  \\\n0  tr1   39          State-gov   77516   Bachelors             13   \n1  tr2   50   Self-emp-not-inc   83311   Bachelors             13   \n2  tr3   38            Private  215646     HS-grad              9   \n3  tr4   53            Private  234721        11th              7   \n4  tr5   28            Private  338409   Bachelors             13   \n\n        marital-status          occupation    relationship    race      sex  \\\n0        Never-married        Adm-clerical   Not-in-family   White     Male   \n1   Married-civ-spouse     Exec-managerial         Husband   White     Male   \n2             Divorced   Handlers-cleaners   Not-in-family   White     Male   \n3   Married-civ-spouse   Handlers-cleaners         Husband   Black     Male   \n4   Married-civ-spouse      Prof-specialty            Wife   Black   Female   \n\n   capital-gain  capital-loss  hours-per-week  native-country  target  \n0          2174             0              40   United-States   <=50K  \n1             0             0              13   United-States   <=50K  \n2             0             0              40   United-States   <=50K  \n3             0             0              40   United-States   <=50K  \n4             0             0              40            Cuba   <=50K  ",
      "text/html": "<div>\n<style scoped>\n    .dataframe tbody tr th:only-of-type {\n        vertical-align: middle;\n    }\n\n    .dataframe tbody tr th {\n        vertical-align: top;\n    }\n\n    .dataframe thead th {\n        text-align: right;\n    }\n</style>\n<table border=\"1\" class=\"dataframe\">\n  <thead>\n    <tr style=\"text-align: right;\">\n      <th></th>\n      <th>id</th>\n      <th>age</th>\n      <th>workclass</th>\n      <th>fnlwgt</th>\n      <th>education</th>\n      <th>education-num</th>\n      <th>marital-status</th>\n      <th>occupation</th>\n      <th>relationship</th>\n      <th>race</th>\n      <th>sex</th>\n      <th>capital-gain</th>\n      <th>capital-loss</th>\n      <th>hours-per-week</th>\n      <th>native-country</th>\n      <th>target</th>\n    </tr>\n  </thead>\n  <tbody>\n    <tr>\n      <th>0</th>\n      <td>tr1</td>\n      <td>39</td>\n      <td>State-gov</td>\n      <td>77516</td>\n      <td>Bachelors</td>\n      <td>13</td>\n      <td>Never-married</td>\n      <td>Adm-clerical</td>\n      <td>Not-in-family</td>\n      <td>White</td>\n      <td>Male</td>\n      <td>2174</td>\n      <td>0</td>\n      <td>40</td>\n      <td>United-States</td>\n      <td>&lt;=50K</td>\n    </tr>\n    <tr>\n      <th>1</th>\n      <td>tr2</td>\n      <td>50</td>\n      <td>Self-emp-not-inc</td>\n      <td>83311</td>\n      <td>Bachelors</td>\n      <td>13</td>\n      <td>Married-civ-spouse</td>\n      <td>Exec-managerial</td>\n      <td>Husband</td>\n      <td>White</td>\n      <td>Male</td>\n      <td>0</td>\n      <td>0</td>\n      <td>13</td>\n      <td>United-States</td>\n      <td>&lt;=50K</td>\n    </tr>\n    <tr>\n      <th>2</th>\n      <td>tr3</td>\n      <td>38</td>\n      <td>Private</td>\n      <td>215646</td>\n      <td>HS-grad</td>\n      <td>9</td>\n      <td>Divorced</td>\n      <td>Handlers-cleaners</td>\n      <td>Not-in-family</td>\n      <td>White</td>\n      <td>Male</td>\n      <td>0</td>\n      <td>0</td>\n      <td>40</td>\n      <td>United-States</td>\n      <td>&lt;=50K</td>\n    </tr>\n    <tr>\n      <th>3</th>\n      <td>tr4</td>\n      <td>53</td>\n      <td>Private</td>\n      <td>234721</td>\n      <td>11th</td>\n      <td>7</td>\n      <td>Married-civ-spouse</td>\n      <td>Handlers-cleaners</td>\n      <td>Husband</td>\n      <td>Black</td>\n      <td>Male</td>\n      <td>0</td>\n      <td>0</td>\n      <td>40</td>\n      <td>United-States</td>\n      <td>&lt;=50K</td>\n    </tr>\n    <tr>\n      <th>4</th>\n      <td>tr5</td>\n      <td>28</td>\n      <td>Private</td>\n      <td>338409</td>\n      <td>Bachelors</td>\n      <td>13</td>\n      <td>Married-civ-spouse</td>\n      <td>Prof-specialty</td>\n      <td>Wife</td>\n      <td>Black</td>\n      <td>Female</td>\n      <td>0</td>\n      <td>0</td>\n      <td>40</td>\n      <td>Cuba</td>\n      <td>&lt;=50K</td>\n    </tr>\n  </tbody>\n</table>\n</div>"
     },
     "metadata": {},
     "output_type": "execute_result",
     "execution_count": 42
    }
   ],
   "source": [
    "#add the list to data_frame with the columns name\n",
    "data_frame = pd.read_csv(\"./data/dataset.csv\", names=column_names)\n",
    "data_frame.head()"
   ],
   "metadata": {
    "collapsed": false,
    "pycharm": {
     "name": "#%%\n",
     "is_executing": false
    }
   }
  },
  {
   "cell_type": "code",
   "execution_count": 43,
   "outputs": [
    {
     "data": {
      "text/plain": "             fnlwgt  education-num  capital-gain  capital-loss  hours-per-week\ncount  3.094000e+04   30940.000000  30940.000000  30940.000000    30940.000000\nmean   1.897864e+05      10.081254   1081.812993     86.569974       40.408920\nstd    1.054064e+05       2.569967   7443.773041    401.706023       12.336945\nmin    1.228500e+04       1.000000      0.000000      0.000000        1.000000\n25%    1.178490e+05       9.000000      0.000000      0.000000       40.000000\n50%    1.783840e+05      10.000000      0.000000      0.000000       40.000000\n75%    2.373180e+05      12.000000      0.000000      0.000000       45.000000\nmax    1.484705e+06      16.000000  99999.000000   4356.000000       99.000000",
      "text/html": "<div>\n<style scoped>\n    .dataframe tbody tr th:only-of-type {\n        vertical-align: middle;\n    }\n\n    .dataframe tbody tr th {\n        vertical-align: top;\n    }\n\n    .dataframe thead th {\n        text-align: right;\n    }\n</style>\n<table border=\"1\" class=\"dataframe\">\n  <thead>\n    <tr style=\"text-align: right;\">\n      <th></th>\n      <th>fnlwgt</th>\n      <th>education-num</th>\n      <th>capital-gain</th>\n      <th>capital-loss</th>\n      <th>hours-per-week</th>\n    </tr>\n  </thead>\n  <tbody>\n    <tr>\n      <th>count</th>\n      <td>3.094000e+04</td>\n      <td>30940.000000</td>\n      <td>30940.000000</td>\n      <td>30940.000000</td>\n      <td>30940.000000</td>\n    </tr>\n    <tr>\n      <th>mean</th>\n      <td>1.897864e+05</td>\n      <td>10.081254</td>\n      <td>1081.812993</td>\n      <td>86.569974</td>\n      <td>40.408920</td>\n    </tr>\n    <tr>\n      <th>std</th>\n      <td>1.054064e+05</td>\n      <td>2.569967</td>\n      <td>7443.773041</td>\n      <td>401.706023</td>\n      <td>12.336945</td>\n    </tr>\n    <tr>\n      <th>min</th>\n      <td>1.228500e+04</td>\n      <td>1.000000</td>\n      <td>0.000000</td>\n      <td>0.000000</td>\n      <td>1.000000</td>\n    </tr>\n    <tr>\n      <th>25%</th>\n      <td>1.178490e+05</td>\n      <td>9.000000</td>\n      <td>0.000000</td>\n      <td>0.000000</td>\n      <td>40.000000</td>\n    </tr>\n    <tr>\n      <th>50%</th>\n      <td>1.783840e+05</td>\n      <td>10.000000</td>\n      <td>0.000000</td>\n      <td>0.000000</td>\n      <td>40.000000</td>\n    </tr>\n    <tr>\n      <th>75%</th>\n      <td>2.373180e+05</td>\n      <td>12.000000</td>\n      <td>0.000000</td>\n      <td>0.000000</td>\n      <td>45.000000</td>\n    </tr>\n    <tr>\n      <th>max</th>\n      <td>1.484705e+06</td>\n      <td>16.000000</td>\n      <td>99999.000000</td>\n      <td>4356.000000</td>\n      <td>99.000000</td>\n    </tr>\n  </tbody>\n</table>\n</div>"
     },
     "metadata": {},
     "output_type": "execute_result",
     "execution_count": 43
    }
   ],
   "source": [
    "#'fnlwgt','education-num','capital-gain','capital-loss','hours-per-week' test using .describe() method\n",
    "data_frame[['fnlwgt','education-num','capital-gain','capital-loss','hours-per-week']].describe()\n",
    "#data_frame['fnlwgt'].isnull()"
   ],
   "metadata": {
    "collapsed": false,
    "pycharm": {
     "name": "#%%\n",
     "is_executing": false
    }
   }
  },
  {
   "cell_type": "code",
   "execution_count": 44,
   "outputs": [
    {
     "data": {
      "text/plain": "            id  age workclass  fnlwgt      education  education-num  \\\n13        tr14   40   Private  121772      Assoc-voc             11   \n23        tr24   54         ?  180211   Some-college             10   \n34        tr35   31   Private   84154   Some-college             10   \n47        tr48   18   Private  226956        HS-grad              9   \n57        tr58   32         ?  293936        7th-8th              4   \n...        ...  ...       ...     ...            ...            ...   \n30909  tr30910   35         ?  320084      Bachelors             13   \n30910  tr30911   30         ?   33811      Bachelors             13   \n30918  tr30919   71         ?  287372      Doctorate             16   \n30920  tr30921   41         ?  202822        HS-grad              9   \n30921  tr30922   72         ?  129912        HS-grad              9   \n\n               marital-status      occupation    relationship  \\\n13         Married-civ-spouse    Craft-repair         Husband   \n23         Married-civ-spouse               ?         Husband   \n34         Married-civ-spouse           Sales         Husband   \n47              Never-married   Other-service       Own-child   \n57      Married-spouse-absent               ?   Not-in-family   \n...                       ...             ...             ...   \n30909      Married-civ-spouse               ?            Wife   \n30910           Never-married               ?   Not-in-family   \n30918      Married-civ-spouse               ?         Husband   \n30920               Separated               ?   Not-in-family   \n30921      Married-civ-spouse               ?         Husband   \n\n                      race      sex  capital-gain  capital-loss  \\\n13      Asian-Pac-Islander     Male             0             0   \n23      Asian-Pac-Islander     Male             0             0   \n34                   White     Male             0             0   \n47                   White   Female             0             0   \n57                   White     Male             0             0   \n...                    ...      ...           ...           ...   \n30909                White   Female             0             0   \n30910   Asian-Pac-Islander   Female             0             0   \n30918                White     Male             0             0   \n30920                Black   Female             0             0   \n30921                White     Male             0             0   \n\n       hours-per-week  native-country  target  \n13                 40               ?    >50K  \n23                 60           South    >50K  \n34                 38               ?    >50K  \n47                 30               ?   <=50K  \n57                 40               ?   <=50K  \n...               ...             ...     ...  \n30909              55   United-States    >50K  \n30910              99   United-States   <=50K  \n30918              10   United-States    >50K  \n30920              32   United-States   <=50K  \n30921              25   United-States   <=50K  \n\n[2272 rows x 16 columns]",
      "text/html": "<div>\n<style scoped>\n    .dataframe tbody tr th:only-of-type {\n        vertical-align: middle;\n    }\n\n    .dataframe tbody tr th {\n        vertical-align: top;\n    }\n\n    .dataframe thead th {\n        text-align: right;\n    }\n</style>\n<table border=\"1\" class=\"dataframe\">\n  <thead>\n    <tr style=\"text-align: right;\">\n      <th></th>\n      <th>id</th>\n      <th>age</th>\n      <th>workclass</th>\n      <th>fnlwgt</th>\n      <th>education</th>\n      <th>education-num</th>\n      <th>marital-status</th>\n      <th>occupation</th>\n      <th>relationship</th>\n      <th>race</th>\n      <th>sex</th>\n      <th>capital-gain</th>\n      <th>capital-loss</th>\n      <th>hours-per-week</th>\n      <th>native-country</th>\n      <th>target</th>\n    </tr>\n  </thead>\n  <tbody>\n    <tr>\n      <th>13</th>\n      <td>tr14</td>\n      <td>40</td>\n      <td>Private</td>\n      <td>121772</td>\n      <td>Assoc-voc</td>\n      <td>11</td>\n      <td>Married-civ-spouse</td>\n      <td>Craft-repair</td>\n      <td>Husband</td>\n      <td>Asian-Pac-Islander</td>\n      <td>Male</td>\n      <td>0</td>\n      <td>0</td>\n      <td>40</td>\n      <td>?</td>\n      <td>&gt;50K</td>\n    </tr>\n    <tr>\n      <th>23</th>\n      <td>tr24</td>\n      <td>54</td>\n      <td>?</td>\n      <td>180211</td>\n      <td>Some-college</td>\n      <td>10</td>\n      <td>Married-civ-spouse</td>\n      <td>?</td>\n      <td>Husband</td>\n      <td>Asian-Pac-Islander</td>\n      <td>Male</td>\n      <td>0</td>\n      <td>0</td>\n      <td>60</td>\n      <td>South</td>\n      <td>&gt;50K</td>\n    </tr>\n    <tr>\n      <th>34</th>\n      <td>tr35</td>\n      <td>31</td>\n      <td>Private</td>\n      <td>84154</td>\n      <td>Some-college</td>\n      <td>10</td>\n      <td>Married-civ-spouse</td>\n      <td>Sales</td>\n      <td>Husband</td>\n      <td>White</td>\n      <td>Male</td>\n      <td>0</td>\n      <td>0</td>\n      <td>38</td>\n      <td>?</td>\n      <td>&gt;50K</td>\n    </tr>\n    <tr>\n      <th>47</th>\n      <td>tr48</td>\n      <td>18</td>\n      <td>Private</td>\n      <td>226956</td>\n      <td>HS-grad</td>\n      <td>9</td>\n      <td>Never-married</td>\n      <td>Other-service</td>\n      <td>Own-child</td>\n      <td>White</td>\n      <td>Female</td>\n      <td>0</td>\n      <td>0</td>\n      <td>30</td>\n      <td>?</td>\n      <td>&lt;=50K</td>\n    </tr>\n    <tr>\n      <th>57</th>\n      <td>tr58</td>\n      <td>32</td>\n      <td>?</td>\n      <td>293936</td>\n      <td>7th-8th</td>\n      <td>4</td>\n      <td>Married-spouse-absent</td>\n      <td>?</td>\n      <td>Not-in-family</td>\n      <td>White</td>\n      <td>Male</td>\n      <td>0</td>\n      <td>0</td>\n      <td>40</td>\n      <td>?</td>\n      <td>&lt;=50K</td>\n    </tr>\n    <tr>\n      <th>...</th>\n      <td>...</td>\n      <td>...</td>\n      <td>...</td>\n      <td>...</td>\n      <td>...</td>\n      <td>...</td>\n      <td>...</td>\n      <td>...</td>\n      <td>...</td>\n      <td>...</td>\n      <td>...</td>\n      <td>...</td>\n      <td>...</td>\n      <td>...</td>\n      <td>...</td>\n      <td>...</td>\n    </tr>\n    <tr>\n      <th>30909</th>\n      <td>tr30910</td>\n      <td>35</td>\n      <td>?</td>\n      <td>320084</td>\n      <td>Bachelors</td>\n      <td>13</td>\n      <td>Married-civ-spouse</td>\n      <td>?</td>\n      <td>Wife</td>\n      <td>White</td>\n      <td>Female</td>\n      <td>0</td>\n      <td>0</td>\n      <td>55</td>\n      <td>United-States</td>\n      <td>&gt;50K</td>\n    </tr>\n    <tr>\n      <th>30910</th>\n      <td>tr30911</td>\n      <td>30</td>\n      <td>?</td>\n      <td>33811</td>\n      <td>Bachelors</td>\n      <td>13</td>\n      <td>Never-married</td>\n      <td>?</td>\n      <td>Not-in-family</td>\n      <td>Asian-Pac-Islander</td>\n      <td>Female</td>\n      <td>0</td>\n      <td>0</td>\n      <td>99</td>\n      <td>United-States</td>\n      <td>&lt;=50K</td>\n    </tr>\n    <tr>\n      <th>30918</th>\n      <td>tr30919</td>\n      <td>71</td>\n      <td>?</td>\n      <td>287372</td>\n      <td>Doctorate</td>\n      <td>16</td>\n      <td>Married-civ-spouse</td>\n      <td>?</td>\n      <td>Husband</td>\n      <td>White</td>\n      <td>Male</td>\n      <td>0</td>\n      <td>0</td>\n      <td>10</td>\n      <td>United-States</td>\n      <td>&gt;50K</td>\n    </tr>\n    <tr>\n      <th>30920</th>\n      <td>tr30921</td>\n      <td>41</td>\n      <td>?</td>\n      <td>202822</td>\n      <td>HS-grad</td>\n      <td>9</td>\n      <td>Separated</td>\n      <td>?</td>\n      <td>Not-in-family</td>\n      <td>Black</td>\n      <td>Female</td>\n      <td>0</td>\n      <td>0</td>\n      <td>32</td>\n      <td>United-States</td>\n      <td>&lt;=50K</td>\n    </tr>\n    <tr>\n      <th>30921</th>\n      <td>tr30922</td>\n      <td>72</td>\n      <td>?</td>\n      <td>129912</td>\n      <td>HS-grad</td>\n      <td>9</td>\n      <td>Married-civ-spouse</td>\n      <td>?</td>\n      <td>Husband</td>\n      <td>White</td>\n      <td>Male</td>\n      <td>0</td>\n      <td>0</td>\n      <td>25</td>\n      <td>United-States</td>\n      <td>&lt;=50K</td>\n    </tr>\n  </tbody>\n</table>\n<p>2272 rows × 16 columns</p>\n</div>"
     },
     "metadata": {},
     "output_type": "execute_result",
     "execution_count": 44
    }
   ],
   "source": [
    "# find location for every column that has \"?\" in it\n",
    "mask = np.column_stack([data_frame[col].astype(str).str.contains(\"\\?\", na=False) for col in data_frame])\n",
    "data_frame.loc[mask.any(axis=1)]\n"
   ],
   "metadata": {
    "collapsed": false,
    "pycharm": {
     "name": "#%%\n",
     "is_executing": false
    }
   }
  },
  {
   "cell_type": "code",
   "execution_count": 45,
   "outputs": [],
   "source": [
    "#continuous features saved in lists\n",
    "data_feature_names = list(data_frame[['age','fnlwgt','education-num','capital-gain','capital-loss','hours-per-week']])\n",
    "data_continuous_count = list(data_frame[data_feature_names].count())\n",
    "data_continuous_max = list(data_frame[data_feature_names].max())\n",
    "data_continuous_min = list(data_frame[data_feature_names].min())\n",
    "data_continuous_quartile_25 = list(data_frame[data_feature_names].quantile(q=0.25))\n",
    "data_continuous_quartile_75 = list(data_frame[data_feature_names].quantile(q=0.75))\n",
    "data_continuous_miss = list(data_frame[data_feature_names].isna().sum()/len(data_frame[data_feature_names]))\n",
    "data_continuous_std = list(data_frame[data_feature_names].std())\n",
    "data_continuous_mean = list(data_frame[data_feature_names].mean())\n",
    "data_continuous_cardinality = list(data_frame[data_feature_names].nunique())\n",
    "data_continuous_median = list(data_frame[data_feature_names].median())\n"
   ],
   "metadata": {
    "collapsed": false,
    "pycharm": {
     "name": "#%%\n",
     "is_executing": false
    }
   }
  },
  {
   "cell_type": "code",
   "execution_count": 46,
   "outputs": [
    {
     "data": {
      "text/plain": "    Feature Name  Count  % Miss  Card.    Min   Qrt 1st           Mean  \\\n0            age  30940     0.0     72     17      28.0      38.560763   \n1         fnlwgt  30940     0.0  20880  12285  117849.0  189786.401422   \n2  education-num  30940     0.0     16      1       9.0      10.081254   \n3   capital-gain  30940     0.0    119      0       0.0    1081.812993   \n4   capital-loss  30940     0.0     91      0       0.0      86.569974   \n\n     Median   Qrt 3rd      Max            Std  \n0      37.0      48.0       90      13.639403  \n1  178384.0  237318.0  1484705  105406.394386  \n2      10.0      12.0       16       2.569967  \n3       0.0       0.0    99999    7443.773041  \n4       0.0       0.0     4356     401.706023  ",
      "text/html": "<div>\n<style scoped>\n    .dataframe tbody tr th:only-of-type {\n        vertical-align: middle;\n    }\n\n    .dataframe tbody tr th {\n        vertical-align: top;\n    }\n\n    .dataframe thead th {\n        text-align: right;\n    }\n</style>\n<table border=\"1\" class=\"dataframe\">\n  <thead>\n    <tr style=\"text-align: right;\">\n      <th></th>\n      <th>Feature Name</th>\n      <th>Count</th>\n      <th>% Miss</th>\n      <th>Card.</th>\n      <th>Min</th>\n      <th>Qrt 1st</th>\n      <th>Mean</th>\n      <th>Median</th>\n      <th>Qrt 3rd</th>\n      <th>Max</th>\n      <th>Std</th>\n    </tr>\n  </thead>\n  <tbody>\n    <tr>\n      <th>0</th>\n      <td>age</td>\n      <td>30940</td>\n      <td>0.0</td>\n      <td>72</td>\n      <td>17</td>\n      <td>28.0</td>\n      <td>38.560763</td>\n      <td>37.0</td>\n      <td>48.0</td>\n      <td>90</td>\n      <td>13.639403</td>\n    </tr>\n    <tr>\n      <th>1</th>\n      <td>fnlwgt</td>\n      <td>30940</td>\n      <td>0.0</td>\n      <td>20880</td>\n      <td>12285</td>\n      <td>117849.0</td>\n      <td>189786.401422</td>\n      <td>178384.0</td>\n      <td>237318.0</td>\n      <td>1484705</td>\n      <td>105406.394386</td>\n    </tr>\n    <tr>\n      <th>2</th>\n      <td>education-num</td>\n      <td>30940</td>\n      <td>0.0</td>\n      <td>16</td>\n      <td>1</td>\n      <td>9.0</td>\n      <td>10.081254</td>\n      <td>10.0</td>\n      <td>12.0</td>\n      <td>16</td>\n      <td>2.569967</td>\n    </tr>\n    <tr>\n      <th>3</th>\n      <td>capital-gain</td>\n      <td>30940</td>\n      <td>0.0</td>\n      <td>119</td>\n      <td>0</td>\n      <td>0.0</td>\n      <td>1081.812993</td>\n      <td>0.0</td>\n      <td>0.0</td>\n      <td>99999</td>\n      <td>7443.773041</td>\n    </tr>\n    <tr>\n      <th>4</th>\n      <td>capital-loss</td>\n      <td>30940</td>\n      <td>0.0</td>\n      <td>91</td>\n      <td>0</td>\n      <td>0.0</td>\n      <td>86.569974</td>\n      <td>0.0</td>\n      <td>0.0</td>\n      <td>4356</td>\n      <td>401.706023</td>\n    </tr>\n  </tbody>\n</table>\n</div>"
     },
     "metadata": {},
     "output_type": "execute_result",
     "execution_count": 46
    }
   ],
   "source": [
    "#DataFrame created with all the lists that contain continuous data\n",
    "data_frame_continuous = pd.DataFrame(\n",
    "    {\n",
    "        'Feature Name' :data_feature_names,\n",
    "        'Count': data_continuous_count,\n",
    "        '% Miss' : data_continuous_miss,\n",
    "        'Card.': data_continuous_cardinality,\n",
    "        'Min': data_continuous_min,\n",
    "        'Qrt 1st': data_continuous_quartile_25,\n",
    "        'Mean' : data_continuous_mean,\n",
    "        'Median': data_continuous_median,\n",
    "        'Qrt 3rd': data_continuous_quartile_75,\n",
    "        'Max': data_continuous_max,\n",
    "        'Std' : data_continuous_std\n",
    "        \n",
    "    }\n",
    ")\n",
    "#print first 5 rows from the DataFrame\n",
    "data_frame_continuous.head()\n"
   ],
   "metadata": {
    "collapsed": false,
    "pycharm": {
     "name": "#%%\n",
     "is_executing": false
    }
   }
  },
  {
   "cell_type": "code",
   "execution_count": 47,
   "outputs": [],
   "source": [
    "#create .csv file will all the continuous data\n",
    "data_frame_continuous.to_csv(\"./data/ContinuousData.csv\",header=True)\n"
   ],
   "metadata": {
    "collapsed": false,
    "pycharm": {
     "name": "#%%\n",
     "is_executing": false
    }
   }
  },
  {
   "cell_type": "code",
   "execution_count": 48,
   "outputs": [],
   "source": [
    "#categorical features and save all the data in a list \n",
    "data_categorical_features_names = list(data_frame[['workclass','education','marital-status','occupation','race','sex','native-country',\"target\"]])\n",
    "data_categorical_columns = ['Feature Name','Count','% Miss','Card.','Mode','Mode Freq.','Mode % ','2nd Mode','2nd Mode Freq.','2nd Mode %']\n",
    "def get_categorical_features(data,feature_name):\n",
    "    data_gather = [\n",
    "    feature_name,    \n",
    "    data[feature_name].count(),\n",
    "    data[feature_name].isna().sum()/len(data[feature_name]),\n",
    "    data[feature_name].nunique(),\n",
    "    data[feature_name].mode().iloc[0],\n",
    "    data[feature_name].value_counts().iloc[0],\n",
    "    data[feature_name].value_counts().iloc[0]/data[feature_name].count(),\n",
    "    collections.Counter(data[feature_name]).most_common()[1][0],\n",
    "    data[feature_name].value_counts()[1],\n",
    "    data[feature_name].value_counts()[1]/data[feature_name].count(),\n",
    "        ]\n",
    "    \n",
    "    return data_gather\n",
    "\n",
    "# create a list of lists that contains all the data with the categorical features\n",
    "data_categorical_feature = [\n",
    "    get_categorical_features(data_frame,data_categorical_features_names[0]),\n",
    "    get_categorical_features(data_frame,data_categorical_features_names[1]),\n",
    "    get_categorical_features(data_frame,data_categorical_features_names[2]),\n",
    "    get_categorical_features(data_frame,data_categorical_features_names[3]),\n",
    "    get_categorical_features(data_frame,data_categorical_features_names[4]),\n",
    "    get_categorical_features(data_frame,data_categorical_features_names[5]),\n",
    "    get_categorical_features(data_frame,data_categorical_features_names[6]),\n",
    "    \n",
    "]"
   ],
   "metadata": {
    "collapsed": false,
    "pycharm": {
     "name": "#%%\n",
     "is_executing": false
    }
   }
  },
  {
   "cell_type": "code",
   "execution_count": 49,
   "outputs": [],
   "source": [
    "#create a DataFrame from a list and columns name\n",
    "data_frame_categorical = pd.DataFrame(data_categorical_feature,columns=data_categorical_columns)\n",
    "#write a .csv file with all the data from \n",
    "data_frame_categorical.to_csv(\"./data/CategoricalData.csv\",header=True)\n"
   ],
   "metadata": {
    "collapsed": false,
    "pycharm": {
     "name": "#%%\n",
     "is_executing": false
    }
   }
  },
  {
   "cell_type": "code",
   "execution_count": 50,
   "outputs": [
    {
     "data": {
      "text/plain": "0        28383\n15024      324\n7688       267\n7298       231\n99999      154\n         ...  \n1111         1\n4931         1\n401          1\n2538         1\n5060         1\nName: capital-gain, Length: 119, dtype: int64"
     },
     "metadata": {},
     "output_type": "execute_result",
     "execution_count": 50
    }
   ],
   "source": [
    "#check for 0 vaues in capital gain\n",
    "data_frame['capital-gain'].value_counts()"
   ],
   "metadata": {
    "collapsed": false,
    "pycharm": {
     "name": "#%%\n",
     "is_executing": false
    }
   }
  },
  {
   "cell_type": "code",
   "execution_count": 51,
   "outputs": [
    {
     "data": {
      "text/plain": "<bound method DataFrame.notnull of             id  age          workclass  fnlwgt    education  education-num  \\\n0          tr1   39          State-gov   77516    Bachelors             13   \n1          tr2   50   Self-emp-not-inc   83311    Bachelors             13   \n2          tr3   38            Private  215646      HS-grad              9   \n3          tr4   53            Private  234721         11th              7   \n4          tr5   28            Private  338409    Bachelors             13   \n...        ...  ...                ...     ...          ...            ...   \n30935  tr30936   27            Private  257302   Assoc-acdm             12   \n30936  tr30937   40            Private  154374      HS-grad              9   \n30937  tr30938   58            Private  151910      HS-grad              9   \n30938  tr30939   22            Private  201490      HS-grad              9   \n30939  tr30940   52       Self-emp-inc  287927      HS-grad              9   \n\n            marital-status          occupation    relationship    race  \\\n0            Never-married        Adm-clerical   Not-in-family   White   \n1       Married-civ-spouse     Exec-managerial         Husband   White   \n2                 Divorced   Handlers-cleaners   Not-in-family   White   \n3       Married-civ-spouse   Handlers-cleaners         Husband   Black   \n4       Married-civ-spouse      Prof-specialty            Wife   Black   \n...                    ...                 ...             ...     ...   \n30935   Married-civ-spouse        Tech-support            Wife   White   \n30936   Married-civ-spouse   Machine-op-inspct         Husband   White   \n30937              Widowed        Adm-clerical       Unmarried   White   \n30938        Never-married        Adm-clerical       Own-child   White   \n30939   Married-civ-spouse     Exec-managerial            Wife   White   \n\n           sex  capital-gain  capital-loss  hours-per-week  native-country  \\\n0         Male          2174             0              40   United-States   \n1         Male             0             0              13   United-States   \n2         Male             0             0              40   United-States   \n3         Male             0             0              40   United-States   \n4       Female             0             0              40            Cuba   \n...        ...           ...           ...             ...             ...   \n30935   Female             0             0              38   United-States   \n30936     Male             0             0              40   United-States   \n30937   Female             0             0              40   United-States   \n30938     Male             0             0              20   United-States   \n30939   Female         15024             0              40   United-States   \n\n       target  \n0       <=50K  \n1       <=50K  \n2       <=50K  \n3       <=50K  \n4       <=50K  \n...       ...  \n30935   <=50K  \n30936    >50K  \n30937   <=50K  \n30938   <=50K  \n30939    >50K  \n\n[30940 rows x 16 columns]>"
     },
     "metadata": {},
     "output_type": "execute_result",
     "execution_count": 51
    }
   ],
   "source": [
    "data_frame.shape\n",
    "#check if we have missing values\n",
    "data_frame.isnull().values\n",
    "data_frame.notnull"
   ],
   "metadata": {
    "collapsed": false,
    "pycharm": {
     "name": "#%%\n",
     "is_executing": false
    }
   }
  },
  {
   "cell_type": "code",
   "execution_count": 52,
   "outputs": [
    {
     "data": {
      "text/plain": "0        28383\n15024      324\n7688       267\n7298       231\n99999      154\n         ...  \n1111         1\n4931         1\n401          1\n2538         1\n5060         1\nName: capital-gain, Length: 119, dtype: int64"
     },
     "metadata": {},
     "output_type": "execute_result",
     "execution_count": 52
    }
   ],
   "source": [
    "#data_frame.isna()\n",
    "data_frame['capital-gain'].value_counts()"
   ],
   "metadata": {
    "collapsed": false,
    "pycharm": {
     "name": "#%%\n",
     "is_executing": false
    }
   }
  },
  {
   "cell_type": "code",
   "execution_count": 53,
   "outputs": [
    {
     "data": {
      "text/plain": "0       29510\n1902      191\n1977      158\n1887      147\n1485       48\n        ...  \n810         1\n1539        1\n1844        1\n2489        1\n1411        1\nName: capital-loss, Length: 91, dtype: int64"
     },
     "metadata": {},
     "output_type": "execute_result",
     "execution_count": 53
    }
   ],
   "source": [
    "data_frame['capital-loss'].value_counts()\n",
    "\n"
   ],
   "metadata": {
    "collapsed": false,
    "pycharm": {
     "name": "#%%\n",
     "is_executing": false
    }
   }
  }
 ],
 "metadata": {
  "kernelspec": {
   "display_name": "Python 3",
   "language": "python",
   "name": "python3"
  },
  "language_info": {
   "codemirror_mode": {
    "name": "ipython",
    "version": 2
   },
   "file_extension": ".py",
   "mimetype": "text/x-python",
   "name": "python",
   "nbconvert_exporter": "python",
   "pygments_lexer": "ipython2",
   "version": "2.7.6"
  },
  "pycharm": {
   "stem_cell": {
    "cell_type": "raw",
    "source": [],
    "metadata": {
     "collapsed": false
    }
   }
  }
 },
 "nbformat": 4,
 "nbformat_minor": 0
}